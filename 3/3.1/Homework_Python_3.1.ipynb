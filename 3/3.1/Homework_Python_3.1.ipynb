{
 "cells": [
  {
   "cell_type": "code",
   "execution_count": 26,
   "id": "28441592",
   "metadata": {},
   "outputs": [
    {
     "name": "stdout",
     "output_type": "stream",
     "text": [
      "[3, 'apple', 1]\n"
     ]
    }
   ],
   "source": [
    "#Написать программу, которая удаляет из списка все элементы, стоящие на четных позициях\n",
    "arr=[1,3,'row', 'apple', 34324, 1, 4324]\n",
    "for i in range(len(arr)//2+1):\n",
    "    arr.pop(i)\n",
    "    i+=1\n",
    "        \n",
    "print(arr)"
   ]
  },
  {
   "cell_type": "code",
   "execution_count": 31,
   "id": "6a8e67d3",
   "metadata": {},
   "outputs": [
    {
     "name": "stdout",
     "output_type": "stream",
     "text": [
      "['Написать', 'программу', 'которая', 'считывает', 'находит', 'содержащие', 'более']\n"
     ]
    }
   ],
   "source": [
    "#Написать программу, которая считывает список слов и находит слова, содержащие более трех гласных букв\n",
    "arr=['Написать', 'программу', 'которая', 'считывает', 'список', 'слов', 'и', 'находит', 'слова', 'содержащие', 'более', 'трех', 'гласных', 'букв']\n",
    "words=[]\n",
    "count=0\n",
    "for letter in arr:\n",
    "    for i in letter:\n",
    "        if i.lower() in 'аеёиоуыэюя':\n",
    "            count+=1\n",
    "    if count>=3:\n",
    "        words.append(letter)\n",
    "    count=0\n",
    "print(words)\n",
    "        "
   ]
  },
  {
   "cell_type": "code",
   "execution_count": 36,
   "id": "a3f42454",
   "metadata": {},
   "outputs": [
    {
     "name": "stdout",
     "output_type": "stream",
     "text": [
      "33\n"
     ]
    }
   ],
   "source": [
    "#Написать программу, которая находит второй по величине элемент в списке.\n",
    "arr=[1,5,4,24,33,2,5,352,23]\n",
    "max1=0\n",
    "max2=0\n",
    "for i in arr:\n",
    "    if i>max1:\n",
    "        max1, max2=i, max1\n",
    "print(max2) "
   ]
  },
  {
   "cell_type": "code",
   "execution_count": 38,
   "id": "43da5a1b",
   "metadata": {},
   "outputs": [
    {
     "name": "stdout",
     "output_type": "stream",
     "text": [
      "[1, 2, 3, 4, 5, 6, 424, 73, 17]\n"
     ]
    }
   ],
   "source": [
    "#Написать программу, которая удаляет из списка все дубликаты.\n",
    "arr=[1,1,424,2,2,4,4,5,2,6,17,3,73,3]\n",
    "print(list(set(arr)))"
   ]
  },
  {
   "cell_type": "code",
   "execution_count": 72,
   "id": "c860bcf7",
   "metadata": {},
   "outputs": [
    {
     "name": "stdout",
     "output_type": "stream",
     "text": [
      "{'Олег': {'мужчина, 19, 30000'}, 'Никита': {'мужчина, 30, 80000'}, 'Кристина': {'женщина, 23, 40000'}}\n"
     ]
    }
   ],
   "source": [
    "#Написать программу, которая считывает данные из CSV-файла и создает словарь, где ключами являются значения в столбце «Name», а значениями — соответствующие им словари с информацией о поле, возрасте и зарплате.\n",
    "import csv\n",
    "info={}\n",
    "with open('task.csv', encoding='utf-8',newline='') as t_f:\n",
    "    file_reader=csv.reader(t_f,delimiter=',')\n",
    "    count=0\n",
    "    for row in file_reader:\n",
    "        if count>0:\n",
    "            info[f'{row[0]}']={', '.join(row[1:])}\n",
    "            \n",
    "        else:\n",
    "            count+=1\n",
    "print(info)"
   ]
  },
  {
   "cell_type": "code",
   "execution_count": 76,
   "id": "996cdb1d",
   "metadata": {},
   "outputs": [
    {
     "name": "stdout",
     "output_type": "stream",
     "text": [
      "wfefwerf, wergf werg w werg wergwergwerg, grr, grgr geg\n",
      "wfefwerf,\n",
      "wergf\n",
      "werg\n",
      "werg\n",
      "wergwergwerg,\n",
      "grr,\n",
      "grgr\n",
      "geg\n"
     ]
    }
   ],
   "source": [
    "#Написать программу, которая запрашивает у пользователя строку и выводит на экран все ее подстроки длиной не менее трех символов\n",
    "s=input().split()\n",
    "for sub in s:\n",
    "    if len(sub)>=3:\n",
    "        print(sub)"
   ]
  },
  {
   "cell_type": "code",
   "execution_count": null,
   "id": "72d69ab3",
   "metadata": {},
   "outputs": [],
   "source": []
  }
 ],
 "metadata": {
  "kernelspec": {
   "display_name": "Python 3 (ipykernel)",
   "language": "python",
   "name": "python3"
  },
  "language_info": {
   "codemirror_mode": {
    "name": "ipython",
    "version": 3
   },
   "file_extension": ".py",
   "mimetype": "text/x-python",
   "name": "python",
   "nbconvert_exporter": "python",
   "pygments_lexer": "ipython3",
   "version": "3.11.5"
  }
 },
 "nbformat": 4,
 "nbformat_minor": 5
}
