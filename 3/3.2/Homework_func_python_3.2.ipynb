{
 "cells": [
  {
   "cell_type": "code",
   "execution_count": 6,
   "id": "6f8475b2",
   "metadata": {},
   "outputs": [
    {
     "name": "stdout",
     "output_type": "stream",
     "text": [
      "Площадь квадрата:4\n",
      "Периметр квадрата:8\n"
     ]
    }
   ],
   "source": [
    "#Напишите функцию, которая будет принимать на вход длину стороны квадрата и выводить на экран площадь квадрата и его периметр\n",
    "def area_and_perimeter(side_length):\n",
    "    print(f'Площадь квадрата:{side_length**2}\\nПериметр квадрата:{4*side_length}')\n",
    "    \n",
    "area_and_perimeter(2)"
   ]
  },
  {
   "cell_type": "code",
   "execution_count": 22,
   "id": "eab22a61",
   "metadata": {},
   "outputs": [
    {
     "data": {
      "text/plain": [
       "20"
      ]
     },
     "execution_count": 22,
     "metadata": {},
     "output_type": "execute_result"
    }
   ],
   "source": [
    "#Напишите функцию, которая будет принимать два числа и считать сумму квадратов этих двух чисел, запишите своё вычисление в переменную squared\n",
    "def sum_of_squares(first_number, second_number):\n",
    "    squared=first_number**2+second_number**2\n",
    "    return squared\n",
    "\n",
    "sum_of_squares(4,2)"
   ]
  },
  {
   "cell_type": "code",
   "execution_count": 13,
   "id": "34a559dd",
   "metadata": {},
   "outputs": [
    {
     "data": {
      "text/plain": [
       "['female', 'female', 'male', 'male', 'female', 'male', 'male']"
      ]
     },
     "execution_count": 13,
     "metadata": {},
     "output_type": "execute_result"
    }
   ],
   "source": [
    "#Напишите функцию, которая будет принимать на вход список [“male“,“male“,“female“,“male“,“male“,“female“,”female“] и возвращать его в обратном порядке. Запишите список в переменную new_list\n",
    "def reverse_list(base_list):\n",
    "    new_list=base_list[::-1]\n",
    "    return new_list\n",
    "\n",
    "start_list=['male','male','female','male','male','female','female']\n",
    "reverse_list(start_list)"
   ]
  },
  {
   "cell_type": "code",
   "execution_count": 21,
   "id": "3b08bc64",
   "metadata": {},
   "outputs": [
    {
     "name": "stdout",
     "output_type": "stream",
     "text": [
      "male\n",
      "4\n"
     ]
    }
   ],
   "source": [
    "#Напишите функцию, которая будет принимать на вход список из предыдущего задания(new_list) и выводить на экран количество мужчин или количество женщин в зависимости от требований пользователя.\n",
    "def count_female_or_male(new_list, choice):\n",
    "    if choice=='male':\n",
    "        print(new_list.count('male'))\n",
    "    elif choice=='female':\n",
    "        print(new_list.count('female'))\n",
    "    else:\n",
    "        print('Incorrect input')\n",
    "\n",
    "choice=input('male or female?')\n",
    "new_list=['female', 'female', 'male', 'male', 'female', 'male', 'male']\n",
    "count_female_or_male(new_list, choice)"
   ]
  },
  {
   "cell_type": "code",
   "execution_count": 24,
   "id": "62a46081",
   "metadata": {},
   "outputs": [
    {
     "name": "stdout",
     "output_type": "stream",
     "text": [
      "Write string: female\n"
     ]
    },
    {
     "data": {
      "text/plain": [
       "{'f': 1, 'e': 2, 'm': 1, 'a': 1, 'l': 1}"
      ]
     },
     "execution_count": 24,
     "metadata": {},
     "output_type": "execute_result"
    }
   ],
   "source": [
    "#Напишите функцию, которая будет принимать строку (Например: “female”), а возвращать словарь где ключи — это символы строки, а значения кол-во символов в строке\n",
    "def count_symbol(s):\n",
    "    dict_count_symbol={}\n",
    "    for i in s:\n",
    "        dict_count_symbol[i]=s.count(i)\n",
    "    return dict_count_symbol\n",
    "\n",
    "s=input('Write string: ')\n",
    "count_symbol(s)"
   ]
  },
  {
   "cell_type": "code",
   "execution_count": null,
   "id": "1ca87398",
   "metadata": {},
   "outputs": [],
   "source": []
  }
 ],
 "metadata": {
  "kernelspec": {
   "display_name": "Python 3 (ipykernel)",
   "language": "python",
   "name": "python3"
  },
  "language_info": {
   "codemirror_mode": {
    "name": "ipython",
    "version": 3
   },
   "file_extension": ".py",
   "mimetype": "text/x-python",
   "name": "python",
   "nbconvert_exporter": "python",
   "pygments_lexer": "ipython3",
   "version": "3.11.5"
  }
 },
 "nbformat": 4,
 "nbformat_minor": 5
}
